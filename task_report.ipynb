{
 "cells": [
  {
   "cell_type": "markdown",
   "id": "4c35b335",
   "metadata": {},
   "source": [
    "<div align=\"center\">\n",
    "\n",
    "![SnappFood Logo](assets/snappfood_logo.svg)\n",
    "\n",
    "**Interview Task Report**\n",
    "\n",
    "# **Data Cleaning Challenge**\n",
    "\n",
    "**By**\\\n",
    "**Hamed Araab**\n",
    "\n",
    "</div>\n"
   ]
  },
  {
   "cell_type": "markdown",
   "id": "f35b0d5a",
   "metadata": {},
   "source": [
    "## **Importing Libraries**\n"
   ]
  },
  {
   "cell_type": "markdown",
   "id": "d17fd57d",
   "metadata": {},
   "source": [
    "First, the necessary Python libraries for data processing, visualization, and machine learning are imported. These include:\n",
    "\n",
    "- `numpy` and `pandas` for numerical and tabular data handling,\n",
    "- `matplotlib.pyplot` and `seaborn` for data visualization,\n",
    "- `phonenumbers` for handling and validating phone numbers,\n",
    "- `sklearn` modules for data preprocessing, clustering, and model evaluation.\n"
   ]
  },
  {
   "cell_type": "code",
   "execution_count": 96,
   "id": "5005842d",
   "metadata": {},
   "outputs": [],
   "source": [
    "import numpy as np\n",
    "import pandas as pd\n",
    "import matplotlib.pyplot as plt\n",
    "import seaborn as sns\n",
    "import phonenumbers\n",
    "import arabic_reshaper as ar\n",
    "\n",
    "from bidi.algorithm import get_display\n",
    "from sklearn.preprocessing import StandardScaler\n",
    "from sklearn.cluster import KMeans\n",
    "from sklearn.metrics import silhouette_score\n",
    "\n",
    "sns.set_palette(\"husl\")"
   ]
  },
  {
   "cell_type": "markdown",
   "id": "7995d9a4",
   "metadata": {},
   "source": [
    "## **Data Preview**\n"
   ]
  },
  {
   "cell_type": "markdown",
   "id": "70758c9b",
   "metadata": {},
   "source": [
    "Then, the raw data from a CSV file is loaded into a pandas DataFrame named `df` and the first few rows are displayed to give a quick overview of the dataset.\n"
   ]
  },
  {
   "cell_type": "code",
   "execution_count": 97,
   "id": "6b9257d7",
   "metadata": {},
   "outputs": [
    {
     "data": {
      "text/html": [
       "<div>\n",
       "<style scoped>\n",
       "    .dataframe tbody tr th:only-of-type {\n",
       "        vertical-align: middle;\n",
       "    }\n",
       "\n",
       "    .dataframe tbody tr th {\n",
       "        vertical-align: top;\n",
       "    }\n",
       "\n",
       "    .dataframe thead th {\n",
       "        text-align: right;\n",
       "    }\n",
       "</style>\n",
       "<table border=\"1\" class=\"dataframe\">\n",
       "  <thead>\n",
       "    <tr style=\"text-align: right;\">\n",
       "      <th></th>\n",
       "      <th>Name</th>\n",
       "      <th>Address</th>\n",
       "      <th>Rate</th>\n",
       "      <th>Review</th>\n",
       "      <th>Phone</th>\n",
       "      <th>Super Type</th>\n",
       "      <th>Marketing Area</th>\n",
       "    </tr>\n",
       "  </thead>\n",
       "  <tbody>\n",
       "    <tr>\n",
       "      <th>0</th>\n",
       "      <td>رستوران سنتی قصر ضیافت</td>\n",
       "      <td>اهواز،نادری،بلوار آيت الله بهبهاني نبش خ حلالي...</td>\n",
       "      <td>۳٫۸</td>\n",
       "      <td>(22 نفر)</td>\n",
       "      <td>tel://06132226611</td>\n",
       "      <td>رستوران</td>\n",
       "      <td>15-AkharAsfalt</td>\n",
       "    </tr>\n",
       "    <tr>\n",
       "      <th>1</th>\n",
       "      <td>سالن غذاخوری شرکت ملی مناطق نفت خیز جنوب</td>\n",
       "      <td>اهواز،مناطق اداری شرکت نفت،کنارگذر پاسداران</td>\n",
       "      <td>۵٫۰</td>\n",
       "      <td>(2 نفر)</td>\n",
       "      <td>tel://06132263086</td>\n",
       "      <td>رستوران</td>\n",
       "      <td>13-Hasirabad</td>\n",
       "    </tr>\n",
       "    <tr>\n",
       "      <th>2</th>\n",
       "      <td>رستوران سنتی شاد نشین</td>\n",
       "      <td>اهواز،نادری،خ. شریعتی،خ. زند</td>\n",
       "      <td>0</td>\n",
       "      <td>0</td>\n",
       "      <td>/p/%D8%B1%D8%B3%D8%AA%D9%88%D8%B1%D8%A7%D9%86-...</td>\n",
       "      <td>فست‌فود</td>\n",
       "      <td>15-AkharAsfalt</td>\n",
       "    </tr>\n",
       "    <tr>\n",
       "      <th>3</th>\n",
       "      <td>غذاخوری احلی اللیالی</td>\n",
       "      <td>اهواز،کوی علوی،خ. بنی هاشم،خ. فرهانی</td>\n",
       "      <td>۴٫۰</td>\n",
       "      <td>(1 نفر)</td>\n",
       "      <td>tel://09163045811</td>\n",
       "      <td>فست‌فود</td>\n",
       "      <td>6-Campolo</td>\n",
       "    </tr>\n",
       "    <tr>\n",
       "      <th>4</th>\n",
       "      <td>رستوران سنتی فرحزاد</td>\n",
       "      <td>اهواز،کیان آباد،خ. کیانپارس،خ. توحید</td>\n",
       "      <td>0</td>\n",
       "      <td>0</td>\n",
       "      <td>tel://06133768001</td>\n",
       "      <td>رستوران</td>\n",
       "      <td>1-Kianpars</td>\n",
       "    </tr>\n",
       "  </tbody>\n",
       "</table>\n",
       "</div>"
      ],
      "text/plain": [
       "                                       Name  \\\n",
       "0                    رستوران سنتی قصر ضیافت   \n",
       "1  سالن غذاخوری شرکت ملی مناطق نفت خیز جنوب   \n",
       "2                     رستوران سنتی شاد نشین   \n",
       "3                      غذاخوری احلی اللیالی   \n",
       "4                       رستوران سنتی فرحزاد   \n",
       "\n",
       "                                             Address Rate    Review  \\\n",
       "0  اهواز،نادری،بلوار آيت الله بهبهاني نبش خ حلالي...  ۳٫۸  (22 نفر)   \n",
       "1        اهواز،مناطق اداری شرکت نفت،کنارگذر پاسداران  ۵٫۰   (2 نفر)   \n",
       "2                       اهواز،نادری،خ. شریعتی،خ. زند    0         0   \n",
       "3               اهواز،کوی علوی،خ. بنی هاشم،خ. فرهانی  ۴٫۰   (1 نفر)   \n",
       "4               اهواز،کیان آباد،خ. کیانپارس،خ. توحید    0         0   \n",
       "\n",
       "                                               Phone Super Type  \\\n",
       "0                                  tel://06132226611    رستوران   \n",
       "1                                  tel://06132263086    رستوران   \n",
       "2  /p/%D8%B1%D8%B3%D8%AA%D9%88%D8%B1%D8%A7%D9%86-...    فست‌فود   \n",
       "3                                  tel://09163045811    فست‌فود   \n",
       "4                                  tel://06133768001    رستوران   \n",
       "\n",
       "   Marketing Area  \n",
       "0  15-AkharAsfalt  \n",
       "1    13-Hasirabad  \n",
       "2  15-AkharAsfalt  \n",
       "3       6-Campolo  \n",
       "4      1-Kianpars  "
      ]
     },
     "execution_count": 97,
     "metadata": {},
     "output_type": "execute_result"
    }
   ],
   "source": [
    "df = pd.read_csv(\"data/raw.csv\")\n",
    "\n",
    "df.head()"
   ]
  },
  {
   "cell_type": "markdown",
   "id": "0e25d342",
   "metadata": {},
   "source": [
    "Some basic information regarding `df` is needed:\n"
   ]
  },
  {
   "cell_type": "code",
   "execution_count": 98,
   "id": "bb111c59",
   "metadata": {},
   "outputs": [
    {
     "name": "stdout",
     "output_type": "stream",
     "text": [
      "<class 'pandas.core.frame.DataFrame'>\n",
      "RangeIndex: 49 entries, 0 to 48\n",
      "Data columns (total 7 columns):\n",
      " #   Column          Non-Null Count  Dtype \n",
      "---  ------          --------------  ----- \n",
      " 0   Name            49 non-null     object\n",
      " 1   Address         49 non-null     object\n",
      " 2   Rate            49 non-null     object\n",
      " 3   Review          49 non-null     object\n",
      " 4   Phone           49 non-null     object\n",
      " 5   Super Type      47 non-null     object\n",
      " 6   Marketing Area  48 non-null     object\n",
      "dtypes: object(7)\n",
      "memory usage: 2.8+ KB\n"
     ]
    }
   ],
   "source": [
    "df.info()"
   ]
  },
  {
   "cell_type": "markdown",
   "id": "f9a4ec7f",
   "metadata": {},
   "source": [
    "All dtypes are inferred as `object`. Thus, the values in `Rate` and `Review` have to be normalized later on since they are expected to be numeric.\n"
   ]
  },
  {
   "cell_type": "markdown",
   "id": "4d01ad34",
   "metadata": {},
   "source": [
    "## **Data Preprocessing**\n"
   ]
  },
  {
   "cell_type": "markdown",
   "id": "7b68f87c",
   "metadata": {},
   "source": [
    "### **Stripping Strings**\n"
   ]
  },
  {
   "cell_type": "markdown",
   "id": "2761e015",
   "metadata": {},
   "source": [
    "Since all values are stored as strings, they are stripped so that any leading or trailing whitespace is removed.\n"
   ]
  },
  {
   "cell_type": "code",
   "execution_count": 99,
   "id": "9a98cbc7",
   "metadata": {},
   "outputs": [],
   "source": [
    "df = df.apply(lambda x: x.str.strip() if x.dtype == object else x)"
   ]
  },
  {
   "cell_type": "markdown",
   "id": "ce191cea",
   "metadata": {},
   "source": [
    "### **Checking for Duplicate Names**\n"
   ]
  },
  {
   "cell_type": "markdown",
   "id": "b4419a3c",
   "metadata": {},
   "source": [
    "Just in case, the `Name` column is checked for duplicate values.\n"
   ]
  },
  {
   "cell_type": "code",
   "execution_count": 100,
   "id": "e4213de0",
   "metadata": {},
   "outputs": [
    {
     "data": {
      "text/plain": [
       "np.False_"
      ]
     },
     "execution_count": 100,
     "metadata": {},
     "output_type": "execute_result"
    }
   ],
   "source": [
    "df[\"Name\"].duplicated().any()"
   ]
  },
  {
   "cell_type": "markdown",
   "id": "6f43abd3",
   "metadata": {},
   "source": [
    "### **Normalizing Values**\n"
   ]
  },
  {
   "cell_type": "markdown",
   "id": "8eede9bc",
   "metadata": {},
   "source": [
    "Now, the aforementioned normalization step begins!\n"
   ]
  },
  {
   "cell_type": "markdown",
   "id": "ba602757",
   "metadata": {},
   "source": [
    "#### **`Rate`**\n"
   ]
  },
  {
   "cell_type": "markdown",
   "id": "cf0373ec",
   "metadata": {},
   "source": [
    "To normalize the values in the `Rate` column, the Persian digits and decimal seperator are replaced by their English counterparts.\n"
   ]
  },
  {
   "cell_type": "code",
   "execution_count": 101,
   "id": "0649bd76",
   "metadata": {},
   "outputs": [
    {
     "data": {
      "text/plain": [
       "0    3.8\n",
       "1    5.0\n",
       "2    0.0\n",
       "3    4.0\n",
       "4    0.0\n",
       "Name: Rate, dtype: float64"
      ]
     },
     "execution_count": 101,
     "metadata": {},
     "output_type": "execute_result"
    }
   ],
   "source": [
    "def normalize_rate(rate: str) -> float:\n",
    "    fa_digits, en_digits = \"۰۱۲۳۴۵۶۷۸۹\", \"0123456789\"\n",
    "    fa_dec_sep, en_dec_sep = \"٫\", \".\"\n",
    "\n",
    "    for p, e in zip(fa_digits, en_digits):\n",
    "        rate = rate.replace(p, e)\n",
    "\n",
    "    rate = rate.replace(fa_dec_sep, en_dec_sep)\n",
    "\n",
    "    return pd.to_numeric(rate)\n",
    "\n",
    "\n",
    "df[\"Rate\"] = df[\"Rate\"].apply(normalize_rate)\n",
    "\n",
    "df[\"Rate\"].head()"
   ]
  },
  {
   "cell_type": "markdown",
   "id": "1b8ebc94",
   "metadata": {},
   "source": [
    "#### **`Review`**\n"
   ]
  },
  {
   "cell_type": "markdown",
   "id": "57203213",
   "metadata": {},
   "source": [
    "In the `Review` column, `نفر`, opening and closing parentheses are removed.\n"
   ]
  },
  {
   "cell_type": "code",
   "execution_count": 102,
   "id": "ef870612",
   "metadata": {},
   "outputs": [
    {
     "data": {
      "text/plain": [
       "0    22\n",
       "1     2\n",
       "2     0\n",
       "3     1\n",
       "4     0\n",
       "Name: Review, dtype: int64"
      ]
     },
     "execution_count": 102,
     "metadata": {},
     "output_type": "execute_result"
    }
   ],
   "source": [
    "def normalize_review(review: str) -> float:\n",
    "    review = review.replace(\" نفر\", \"\").replace(\"(\", \"\").replace(\")\", \"\")\n",
    "\n",
    "    return pd.to_numeric(review)\n",
    "\n",
    "\n",
    "df[\"Review\"] = df[\"Review\"].apply(normalize_review)\n",
    "\n",
    "df[\"Review\"].head()"
   ]
  },
  {
   "cell_type": "markdown",
   "id": "5f7588d4",
   "metadata": {},
   "source": [
    "#### **`Phone`**\n"
   ]
  },
  {
   "cell_type": "markdown",
   "id": "0ab63d20",
   "metadata": {},
   "source": [
    "Here, the `phonenumbers` library is utilized to clean and format the values in the `Phone` column. In the meantime, `Unknown` is assigned in case no phone number could be detected.\n"
   ]
  },
  {
   "cell_type": "code",
   "execution_count": 103,
   "id": "6009363b",
   "metadata": {},
   "outputs": [
    {
     "data": {
      "text/plain": [
       "0    061 3222 6611\n",
       "1    061 3226 3086\n",
       "2          Unknown\n",
       "3    0916 304 5811\n",
       "4    061 3376 8001\n",
       "Name: Phone, dtype: object"
      ]
     },
     "execution_count": 103,
     "metadata": {},
     "output_type": "execute_result"
    }
   ],
   "source": [
    "def normalize_phone(phone: str) -> str | float:\n",
    "    try:\n",
    "        phone = phonenumbers.parse(phone, \"IR\")\n",
    "\n",
    "        return phonenumbers.format_number(phone, phonenumbers.PhoneNumberFormat.NATIONAL)\n",
    "    except phonenumbers.NumberParseException:\n",
    "        return \"Unknown\"\n",
    "\n",
    "\n",
    "df[\"Phone\"] = df[\"Phone\"].apply(normalize_phone)\n",
    "\n",
    "df[\"Phone\"].head()"
   ]
  },
  {
   "cell_type": "markdown",
   "id": "950dbcc8",
   "metadata": {},
   "source": [
    "### **Dropping Missing Values**\n"
   ]
  },
  {
   "cell_type": "markdown",
   "id": "4404099b",
   "metadata": {},
   "source": [
    "Finally, all the rows containing at least a null value are removed.\n"
   ]
  },
  {
   "cell_type": "code",
   "execution_count": 104,
   "id": "e182749e",
   "metadata": {},
   "outputs": [
    {
     "name": "stdout",
     "output_type": "stream",
     "text": [
      "<class 'pandas.core.frame.DataFrame'>\n",
      "Index: 46 entries, 0 to 48\n",
      "Data columns (total 7 columns):\n",
      " #   Column          Non-Null Count  Dtype  \n",
      "---  ------          --------------  -----  \n",
      " 0   Name            46 non-null     object \n",
      " 1   Address         46 non-null     object \n",
      " 2   Rate            46 non-null     float64\n",
      " 3   Review          46 non-null     int64  \n",
      " 4   Phone           46 non-null     object \n",
      " 5   Super Type      46 non-null     object \n",
      " 6   Marketing Area  46 non-null     object \n",
      "dtypes: float64(1), int64(1), object(5)\n",
      "memory usage: 2.9+ KB\n"
     ]
    }
   ],
   "source": [
    "df = df.dropna()\n",
    "\n",
    "df.info()"
   ]
  },
  {
   "cell_type": "markdown",
   "id": "21824d90",
   "metadata": {},
   "source": [
    "## **Adding a `Grade` Feature**\n"
   ]
  },
  {
   "cell_type": "markdown",
   "id": "75a54a51",
   "metadata": {},
   "source": [
    "### **Analyzing Base Features**\n"
   ]
  },
  {
   "cell_type": "markdown",
   "id": "b684d45b",
   "metadata": {},
   "source": [
    "To add a `Grade` feature, the `Rate` and `Review` features must be analyzed.\n"
   ]
  },
  {
   "cell_type": "markdown",
   "id": "665dd9f5",
   "metadata": {},
   "source": [
    "#### **Overview**\n"
   ]
  },
  {
   "cell_type": "code",
   "execution_count": 105,
   "id": "25d285f1",
   "metadata": {},
   "outputs": [
    {
     "data": {
      "text/html": [
       "<div>\n",
       "<style scoped>\n",
       "    .dataframe tbody tr th:only-of-type {\n",
       "        vertical-align: middle;\n",
       "    }\n",
       "\n",
       "    .dataframe tbody tr th {\n",
       "        vertical-align: top;\n",
       "    }\n",
       "\n",
       "    .dataframe thead th {\n",
       "        text-align: right;\n",
       "    }\n",
       "</style>\n",
       "<table border=\"1\" class=\"dataframe\">\n",
       "  <thead>\n",
       "    <tr style=\"text-align: right;\">\n",
       "      <th></th>\n",
       "      <th>count</th>\n",
       "      <th>mean</th>\n",
       "      <th>std</th>\n",
       "      <th>min</th>\n",
       "      <th>25%</th>\n",
       "      <th>50%</th>\n",
       "      <th>75%</th>\n",
       "      <th>max</th>\n",
       "    </tr>\n",
       "  </thead>\n",
       "  <tbody>\n",
       "    <tr>\n",
       "      <th>Rate</th>\n",
       "      <td>46.0</td>\n",
       "      <td>1.680435</td>\n",
       "      <td>2.138496</td>\n",
       "      <td>0.0</td>\n",
       "      <td>0.0</td>\n",
       "      <td>0.0</td>\n",
       "      <td>4.0</td>\n",
       "      <td>5.0</td>\n",
       "    </tr>\n",
       "    <tr>\n",
       "      <th>Review</th>\n",
       "      <td>46.0</td>\n",
       "      <td>1.065217</td>\n",
       "      <td>3.268722</td>\n",
       "      <td>0.0</td>\n",
       "      <td>0.0</td>\n",
       "      <td>0.0</td>\n",
       "      <td>1.0</td>\n",
       "      <td>22.0</td>\n",
       "    </tr>\n",
       "  </tbody>\n",
       "</table>\n",
       "</div>"
      ],
      "text/plain": [
       "        count      mean       std  min  25%  50%  75%   max\n",
       "Rate     46.0  1.680435  2.138496  0.0  0.0  0.0  4.0   5.0\n",
       "Review   46.0  1.065217  3.268722  0.0  0.0  0.0  1.0  22.0"
      ]
     },
     "execution_count": 105,
     "metadata": {},
     "output_type": "execute_result"
    }
   ],
   "source": [
    "df.describe().T"
   ]
  },
  {
   "cell_type": "markdown",
   "id": "0e1ce222",
   "metadata": {},
   "source": [
    "#### **`Rate`**\n"
   ]
  },
  {
   "cell_type": "code",
   "execution_count": 106,
   "id": "08229445",
   "metadata": {},
   "outputs": [
    {
     "data": {
      "image/png": "[encoded data removed]",
      "text/plain": [
       "<Figure size 640x480 with 1 Axes>"
      ]
     },
     "metadata": {},
     "output_type": "display_data"
    }
   ],
   "source": [
    "sns.histplot(df[\"Rate\"], kde=True)\n",
    "plt.show()"
   ]
  },
  {
   "cell_type": "markdown",
   "id": "13d44f93",
   "metadata": {},
   "source": [
    "If `Rate` is zero, it indicates that no reviews have been submitted. Thus, it is most reasonable to avoid grading such records.\n"
   ]
  },
  {
   "cell_type": "markdown",
   "id": "2503c845",
   "metadata": {},
   "source": [
    "#### **`Review`**\n"
   ]
  },
  {
   "cell_type": "code",
   "execution_count": 107,
   "id": "aac9270d",
   "metadata": {},
   "outputs": [
    {
     "data": {
      "image/png": "[encoded data removed]",
      "text/plain": [
       "<Figure size 640x480 with 1 Axes>"
      ]
     },
     "metadata": {},
     "output_type": "display_data"
    }
   ],
   "source": [
    "sns.histplot(df[\"Review\"], kde=True)\n",
    "plt.show()"
   ]
  },
  {
   "cell_type": "markdown",
   "id": "98d48a0d",
   "metadata": {},
   "source": [
    "The row with a review count of 22 should be treated as an outlier. Thus, the `Rate` and `Review` values are standardized and any row with an absolute value over 3 is removed during the training of the k-means model.\n"
   ]
  },
  {
   "cell_type": "markdown",
   "id": "f0a169da",
   "metadata": {},
   "source": [
    "### **K-Means Clustering**\n"
   ]
  },
  {
   "cell_type": "markdown",
   "id": "114c2c82",
   "metadata": {},
   "source": [
    "As mentioned before, the `Rate` and `Review` values are standardized and the outliers are removed during the training of the k-means grader. Also, the records with no reviews are ignored since they should logically be graded as `Unrated`.\n"
   ]
  },
  {
   "cell_type": "code",
   "execution_count": 108,
   "id": "09e3b691",
   "metadata": {},
   "outputs": [
    {
     "name": "stdout",
     "output_type": "stream",
     "text": [
      "Silhouette Score: 0.6571143352411188\n"
     ]
    },
    {
     "data": {
      "text/html": [
       "<div>\n",
       "<style scoped>\n",
       "    .dataframe tbody tr th:only-of-type {\n",
       "        vertical-align: middle;\n",
       "    }\n",
       "\n",
       "    .dataframe tbody tr th {\n",
       "        vertical-align: top;\n",
       "    }\n",
       "\n",
       "    .dataframe thead th {\n",
       "        text-align: right;\n",
       "    }\n",
       "</style>\n",
       "<table border=\"1\" class=\"dataframe\">\n",
       "  <thead>\n",
       "    <tr style=\"text-align: right;\">\n",
       "      <th></th>\n",
       "      <th>Name</th>\n",
       "      <th>Address</th>\n",
       "      <th>Rate</th>\n",
       "      <th>Review</th>\n",
       "      <th>Phone</th>\n",
       "      <th>Super Type</th>\n",
       "      <th>Marketing Area</th>\n",
       "      <th>Grade</th>\n",
       "    </tr>\n",
       "  </thead>\n",
       "  <tbody>\n",
       "    <tr>\n",
       "      <th>0</th>\n",
       "      <td>رستوران سنتی قصر ضیافت</td>\n",
       "      <td>اهواز،نادری،بلوار آيت الله بهبهاني نبش خ حلالي...</td>\n",
       "      <td>3.8</td>\n",
       "      <td>22</td>\n",
       "      <td>061 3222 6611</td>\n",
       "      <td>رستوران</td>\n",
       "      <td>15-AkharAsfalt</td>\n",
       "      <td>B</td>\n",
       "    </tr>\n",
       "    <tr>\n",
       "      <th>1</th>\n",
       "      <td>سالن غذاخوری شرکت ملی مناطق نفت خیز جنوب</td>\n",
       "      <td>اهواز،مناطق اداری شرکت نفت،کنارگذر پاسداران</td>\n",
       "      <td>5.0</td>\n",
       "      <td>2</td>\n",
       "      <td>061 3226 3086</td>\n",
       "      <td>رستوران</td>\n",
       "      <td>13-Hasirabad</td>\n",
       "      <td>A</td>\n",
       "    </tr>\n",
       "    <tr>\n",
       "      <th>2</th>\n",
       "      <td>رستوران سنتی شاد نشین</td>\n",
       "      <td>اهواز،نادری،خ. شریعتی،خ. زند</td>\n",
       "      <td>0.0</td>\n",
       "      <td>0</td>\n",
       "      <td>Unknown</td>\n",
       "      <td>فست‌فود</td>\n",
       "      <td>15-AkharAsfalt</td>\n",
       "      <td>Unrated</td>\n",
       "    </tr>\n",
       "    <tr>\n",
       "      <th>3</th>\n",
       "      <td>غذاخوری احلی اللیالی</td>\n",
       "      <td>اهواز،کوی علوی،خ. بنی هاشم،خ. فرهانی</td>\n",
       "      <td>4.0</td>\n",
       "      <td>1</td>\n",
       "      <td>0916 304 5811</td>\n",
       "      <td>فست‌فود</td>\n",
       "      <td>6-Campolo</td>\n",
       "      <td>B</td>\n",
       "    </tr>\n",
       "    <tr>\n",
       "      <th>4</th>\n",
       "      <td>رستوران سنتی فرحزاد</td>\n",
       "      <td>اهواز،کیان آباد،خ. کیانپارس،خ. توحید</td>\n",
       "      <td>0.0</td>\n",
       "      <td>0</td>\n",
       "      <td>061 3376 8001</td>\n",
       "      <td>رستوران</td>\n",
       "      <td>1-Kianpars</td>\n",
       "      <td>Unrated</td>\n",
       "    </tr>\n",
       "  </tbody>\n",
       "</table>\n",
       "</div>"
      ],
      "text/plain": [
       "                                       Name  \\\n",
       "0                    رستوران سنتی قصر ضیافت   \n",
       "1  سالن غذاخوری شرکت ملی مناطق نفت خیز جنوب   \n",
       "2                     رستوران سنتی شاد نشین   \n",
       "3                      غذاخوری احلی اللیالی   \n",
       "4                       رستوران سنتی فرحزاد   \n",
       "\n",
       "                                             Address  Rate  Review  \\\n",
       "0  اهواز،نادری،بلوار آيت الله بهبهاني نبش خ حلالي...   3.8      22   \n",
       "1        اهواز،مناطق اداری شرکت نفت،کنارگذر پاسداران   5.0       2   \n",
       "2                       اهواز،نادری،خ. شریعتی،خ. زند   0.0       0   \n",
       "3               اهواز،کوی علوی،خ. بنی هاشم،خ. فرهانی   4.0       1   \n",
       "4               اهواز،کیان آباد،خ. کیانپارس،خ. توحید   0.0       0   \n",
       "\n",
       "           Phone Super Type  Marketing Area    Grade  \n",
       "0  061 3222 6611    رستوران  15-AkharAsfalt        B  \n",
       "1  061 3226 3086    رستوران    13-Hasirabad        A  \n",
       "2        Unknown    فست‌فود  15-AkharAsfalt  Unrated  \n",
       "3  0916 304 5811    فست‌فود       6-Campolo        B  \n",
       "4  061 3376 8001    رستوران      1-Kianpars  Unrated  "
      ]
     },
     "execution_count": 108,
     "metadata": {},
     "output_type": "execute_result"
    }
   ],
   "source": [
    "class Grader:\n",
    "    def __init__(self):\n",
    "        self.scaler = StandardScaler()\n",
    "        self.kmeans = KMeans(3, random_state=42)\n",
    "\n",
    "        input = df[df[\"Rate\"] > 0][[\"Rate\", \"Review\"]].to_numpy()\n",
    "        input = self.scaler.fit_transform(input)\n",
    "        input = input[np.all(np.abs(input) < 3, axis=1)]\n",
    "\n",
    "        labels = self.kmeans.fit_predict(input)\n",
    "        grades = [\"A\", \"B\", \"C\"]\n",
    "        ranked_indices = np.argsort(-self.kmeans.cluster_centers_.sum(axis=1))\n",
    "        centers = self.scaler.inverse_transform(self.kmeans.cluster_centers_)\n",
    "\n",
    "        self.cluster_to_grade = {idx: grade for idx, grade in zip(ranked_indices, grades)}\n",
    "        self.silhouette_score = silhouette_score(input, labels)\n",
    "        self.cluster_centers = {grade: centers[idx] for idx, grade in self.cluster_to_grade.items()}\n",
    "\n",
    "    def get_grade(self, row):\n",
    "        if row[\"Rate\"] == 0:\n",
    "            row[\"Grade\"] = \"Unrated\"\n",
    "\n",
    "            return row\n",
    "\n",
    "        scaled_row = self.scaler.transform([[row[\"Rate\"], row[\"Review\"]]])\n",
    "        distances = np.linalg.norm(self.kmeans.cluster_centers_ - scaled_row, axis=1)\n",
    "        cluster_idx = np.argmin(distances)\n",
    "        row[\"Grade\"] = self.cluster_to_grade[cluster_idx]\n",
    "\n",
    "        return row\n",
    "\n",
    "\n",
    "grader = Grader()\n",
    "\n",
    "print(f\"Silhouette Score: {grader.silhouette_score}\")\n",
    "\n",
    "df = df.apply(grader.get_grade, axis=1)\n",
    "\n",
    "df.head()"
   ]
  },
  {
   "cell_type": "code",
   "execution_count": 109,
   "id": "a769e798",
   "metadata": {},
   "outputs": [
    {
     "data": {
      "text/plain": [
       "Grade\n",
       "A           8\n",
       "B           6\n",
       "C           5\n",
       "Unrated    27\n",
       "Name: Grade, dtype: int64"
      ]
     },
     "execution_count": 109,
     "metadata": {},
     "output_type": "execute_result"
    }
   ],
   "source": [
    "df.groupby(\"Grade\")[\"Grade\"].size()"
   ]
  },
  {
   "cell_type": "markdown",
   "id": "63c3cdd7",
   "metadata": {},
   "source": [
    "As it was expected based on the analysis performed on the `Rate` column, most records are graded as `Unrated`.\n"
   ]
  },
  {
   "cell_type": "code",
   "execution_count": 110,
   "id": "986d8b24",
   "metadata": {},
   "outputs": [
    {
     "data": {
      "image/png": "[encoded data removed]",
      "text/plain": [
       "<Figure size 640x480 with 1 Axes>"
      ]
     },
     "metadata": {},
     "output_type": "display_data"
    }
   ],
   "source": [
    "sns.scatterplot(data=df, x=\"Rate\", y=\"Review\", hue=\"Grade\", hue_order=[\"A\", \"B\", \"C\", \"Unrated\"])\n",
    "\n",
    "plt.show()"
   ]
  },
  {
   "cell_type": "markdown",
   "id": "faaa618b",
   "metadata": {},
   "source": [
    "Based on the plot above and the previously observed silhouette score, the grading system performs well in its task.\n"
   ]
  },
  {
   "cell_type": "markdown",
   "id": "1e6e7e48",
   "metadata": {},
   "source": [
    "### **Grading Formula**\n"
   ]
  },
  {
   "cell_type": "code",
   "execution_count": 111,
   "id": "4a248881",
   "metadata": {},
   "outputs": [
    {
     "data": {
      "text/plain": [
       "{'A': array([5.   , 1.625]), 'B': array([4.1, 1.2]), 'C': array([2.6, 1.6])}"
      ]
     },
     "execution_count": 111,
     "metadata": {},
     "output_type": "execute_result"
    }
   ],
   "source": [
    "grader.cluster_centers"
   ]
  },
  {
   "cell_type": "markdown",
   "id": "4535b073",
   "metadata": {},
   "source": [
    "Let the set of possible grade labels be:\n",
    "\n",
    "$$\n",
    "\\mathcal{G} = \\set{-1, 1, 2, 3}\n",
    "$$\n",
    "\n",
    "Where:\n",
    "\n",
    "- $-1$: **Unrated**\n",
    "- $1$: **Grade A**\n",
    "- $2$: **Grade B**\n",
    "- $3$: **Grade C**\n",
    "\n",
    "Let each data point be represented as a vector $\\mathbf{x} = (x_1, x_2) \\in \\mathbb{R}^2$, where:\n",
    "\n",
    "- $x_1$: Rate\n",
    "- $x_2$: Review\n",
    "\n",
    "Let the cluster centers (from k-means) be denoted by:\n",
    "\n",
    "$$\n",
    "\\mathbf{c}_1 = (5.0, 1.625),\\quad\n",
    "\\mathbf{c}_2 = (4.1, 1.2),\\quad\n",
    "\\mathbf{c}_3 = (2.6, 1.6)\n",
    "$$\n",
    "\n",
    "Define the set of labeled cluster centers as:\n",
    "\n",
    "$$\n",
    "\\mathcal{C} = \\set{(1, \\mathbf{c}_1), (2, \\mathbf{c}_2), (3, \\mathbf{c}_3)}\n",
    "$$\n",
    "\n",
    "Use the standard Euclidean distance between two vectors $\\mathbf{x}, \\mathbf{y} \\in \\mathbb{R}^2$:\n",
    "\n",
    "$$\n",
    "d(\\mathbf{x}, \\mathbf{y}) = \\lVert \\mathbf{x} - \\mathbf{y} \\rVert_2\n",
    "$$\n",
    "\n",
    "The grade assignment function $g: \\mathbb{R}^2 \\to \\mathcal{G}$ is defined as:\n",
    "\n",
    "$$\n",
    "g(\\mathbf{x}) = \\begin{cases}\n",
    "    -1, & \\text{if } x_1 = 0 \\\\\n",
    "    \\argmin_{k \\in \\mathcal{G}, k \\neq -1} d(\\mathbf{x}, \\mathbf{c}_k), & \\text{otherwise}\n",
    "\\end{cases}\n",
    "$$\n"
   ]
  },
  {
   "cell_type": "markdown",
   "id": "dc92f141",
   "metadata": {},
   "source": [
    "## **Adding a `Subtype` Feature**\n"
   ]
  },
  {
   "cell_type": "markdown",
   "id": "7ed8c5cc",
   "metadata": {},
   "source": [
    "To create a `Subtype` feature, two approaches are taken:\n",
    "\n",
    "1. If the record `Name` contains its `Super Type` (e.g. ‍`رستوران`) and it is preceded or succeeded by a word with a `و` in between, that word is assumed to be `Subtype`.\n",
    "2. Otherwise, a `keyword_map` is created to find a set of keywords corresponding to each predefined `Subtype`. If the record `Name` contains any keyword, the corresponding `Subtype` is assigned to it.\n"
   ]
  },
  {
   "cell_type": "code",
   "execution_count": 112,
   "id": "1a850990",
   "metadata": {},
   "outputs": [
    {
     "data": {
      "text/html": [
       "<div>\n",
       "<style scoped>\n",
       "    .dataframe tbody tr th:only-of-type {\n",
       "        vertical-align: middle;\n",
       "    }\n",
       "\n",
       "    .dataframe tbody tr th {\n",
       "        vertical-align: top;\n",
       "    }\n",
       "\n",
       "    .dataframe thead th {\n",
       "        text-align: right;\n",
       "    }\n",
       "</style>\n",
       "<table border=\"1\" class=\"dataframe\">\n",
       "  <thead>\n",
       "    <tr style=\"text-align: right;\">\n",
       "      <th></th>\n",
       "      <th>Super Type</th>\n",
       "      <th>Subtype</th>\n",
       "    </tr>\n",
       "  </thead>\n",
       "  <tbody>\n",
       "    <tr>\n",
       "      <th>0</th>\n",
       "      <td>تالار پذیرایی</td>\n",
       "      <td>نامشخص</td>\n",
       "    </tr>\n",
       "    <tr>\n",
       "      <th>1</th>\n",
       "      <td>تهیه غذا</td>\n",
       "      <td>نامشخص</td>\n",
       "    </tr>\n",
       "    <tr>\n",
       "      <th>2</th>\n",
       "      <td>رستوران</td>\n",
       "      <td>آشپزخانه</td>\n",
       "    </tr>\n",
       "    <tr>\n",
       "      <th>3</th>\n",
       "      <td>رستوران</td>\n",
       "      <td>ایرانی</td>\n",
       "    </tr>\n",
       "    <tr>\n",
       "      <th>4</th>\n",
       "      <td>رستوران</td>\n",
       "      <td>تهیه غذا</td>\n",
       "    </tr>\n",
       "    <tr>\n",
       "      <th>5</th>\n",
       "      <td>رستوران</td>\n",
       "      <td>سنتی</td>\n",
       "    </tr>\n",
       "    <tr>\n",
       "      <th>6</th>\n",
       "      <td>رستوران</td>\n",
       "      <td>غذاخوری</td>\n",
       "    </tr>\n",
       "    <tr>\n",
       "      <th>7</th>\n",
       "      <td>فست‌فود</td>\n",
       "      <td>تهیه غذا</td>\n",
       "    </tr>\n",
       "    <tr>\n",
       "      <th>8</th>\n",
       "      <td>فست‌فود</td>\n",
       "      <td>سنتی</td>\n",
       "    </tr>\n",
       "    <tr>\n",
       "      <th>9</th>\n",
       "      <td>فست‌فود</td>\n",
       "      <td>غذاخوری</td>\n",
       "    </tr>\n",
       "    <tr>\n",
       "      <th>10</th>\n",
       "      <td>کافه</td>\n",
       "      <td>تهیه غذا</td>\n",
       "    </tr>\n",
       "    <tr>\n",
       "      <th>11</th>\n",
       "      <td>کافه</td>\n",
       "      <td>رستوران</td>\n",
       "    </tr>\n",
       "    <tr>\n",
       "      <th>12</th>\n",
       "      <td>کافه رستوران</td>\n",
       "      <td>سنتی</td>\n",
       "    </tr>\n",
       "  </tbody>\n",
       "</table>\n",
       "</div>"
      ],
      "text/plain": [
       "       Super Type   Subtype\n",
       "0   تالار پذیرایی    نامشخص\n",
       "1        تهیه غذا    نامشخص\n",
       "2         رستوران  آشپزخانه\n",
       "3         رستوران    ایرانی\n",
       "4         رستوران  تهیه غذا\n",
       "5         رستوران      سنتی\n",
       "6         رستوران   غذاخوری\n",
       "7         فست‌فود  تهیه غذا\n",
       "8         فست‌فود      سنتی\n",
       "9         فست‌فود   غذاخوری\n",
       "10           کافه  تهیه غذا\n",
       "11           کافه   رستوران\n",
       "12   کافه رستوران      سنتی"
      ]
     },
     "execution_count": 112,
     "metadata": {},
     "output_type": "execute_result"
    }
   ],
   "source": [
    "def add_subtype(row):\n",
    "    keyword_map = {\n",
    "        \"سنتی\": [\"سنتی\"],\n",
    "        \"ایرانی\": [\"ایرانی\"],\n",
    "        \"پیتزا\": [\"پیتزا\", \"پیتزای\"],\n",
    "        \"برگر\": [\"برگر\", \"همبرگر\"],\n",
    "        \"ساندویچ\": [\"ساندویچ\"],\n",
    "        \"کباب\": [\"کباب\"],\n",
    "        \"گریل\": [\"گریل\"],\n",
    "        \"کافه\": [\"کافی‌شاپ\", \"کافی شاپ\", \"کافه\", \"کافه‌ی\", \"کافه ی\"],\n",
    "        \"تهیه غذا\": [\"کترینگ\", \"تهیه غذا\", \"تهیه غذای\"],\n",
    "        \"غذاخوری\": [\"غذاخوری\", \"غذا خوری\"],\n",
    "        \"بیرون‌بر\": [\"بیرون بر\", \"بیرون‌بر\"],\n",
    "    }\n",
    "\n",
    "    default_subtype = \"نامشخص\"\n",
    "\n",
    "    name = str(row[\"Name\"])\n",
    "    super_type = str(row[\"Super Type\"])\n",
    "    name_parts = name.split()\n",
    "    subtype = default_subtype\n",
    "\n",
    "    if super_type in name_parts:\n",
    "        idx = name_parts.index(super_type)\n",
    "\n",
    "        if idx + 1 < len(name_parts):\n",
    "            if name_parts[idx + 1] == \"و\" and idx + 2 < len(name_parts):\n",
    "                possible = name_parts[idx + 2]\n",
    "            else:\n",
    "                possible = name_parts[idx + 1]\n",
    "        elif idx - 1 >= 0:\n",
    "            if name_parts[idx - 1] == \"و\" and idx - 2 >= 0:\n",
    "                possible = name_parts[idx - 2]\n",
    "            else:\n",
    "                possible = name_parts[idx - 1]\n",
    "\n",
    "        if possible != super_type:\n",
    "            subtype = possible\n",
    "\n",
    "    for key, keywords in keyword_map.items():\n",
    "        if any(kw == subtype for kw in keywords):\n",
    "            subtype = key\n",
    "            break\n",
    "\n",
    "    if subtype == default_subtype:\n",
    "        name_lower = name.lower()\n",
    "\n",
    "        for key, keywords in keyword_map.items():\n",
    "            if any(kw in name_lower for kw in keywords):\n",
    "                if key != super_type:\n",
    "                    subtype = key\n",
    "                    break\n",
    "\n",
    "    row[\"Subtype\"] = subtype\n",
    "\n",
    "    return row\n",
    "\n",
    "\n",
    "def get_type_pairings():\n",
    "    return (\n",
    "        df[[\"Super Type\", \"Subtype\"]]\n",
    "        .drop_duplicates()\n",
    "        .sort_values([\"Super Type\", \"Subtype\"])\n",
    "        .reset_index(drop=True)\n",
    "    )\n",
    "\n",
    "\n",
    "df = df.apply(add_subtype, axis=1)\n",
    "\n",
    "get_type_pairings()"
   ]
  },
  {
   "cell_type": "markdown",
   "id": "62f20047",
   "metadata": {},
   "source": [
    "The type pairings above include a unreasonable pair: `فست‌فود` and `سنتی`. It is most probably a mistake. Thus, in such cases, `فست‌فود` is replaced with `رستوران`.\n"
   ]
  },
  {
   "cell_type": "code",
   "execution_count": 113,
   "id": "a1f76114",
   "metadata": {},
   "outputs": [
    {
     "data": {
      "text/html": [
       "<div>\n",
       "<style scoped>\n",
       "    .dataframe tbody tr th:only-of-type {\n",
       "        vertical-align: middle;\n",
       "    }\n",
       "\n",
       "    .dataframe tbody tr th {\n",
       "        vertical-align: top;\n",
       "    }\n",
       "\n",
       "    .dataframe thead th {\n",
       "        text-align: right;\n",
       "    }\n",
       "</style>\n",
       "<table border=\"1\" class=\"dataframe\">\n",
       "  <thead>\n",
       "    <tr style=\"text-align: right;\">\n",
       "      <th></th>\n",
       "      <th>Super Type</th>\n",
       "      <th>Subtype</th>\n",
       "    </tr>\n",
       "  </thead>\n",
       "  <tbody>\n",
       "    <tr>\n",
       "      <th>0</th>\n",
       "      <td>تالار پذیرایی</td>\n",
       "      <td>نامشخص</td>\n",
       "    </tr>\n",
       "    <tr>\n",
       "      <th>1</th>\n",
       "      <td>تهیه غذا</td>\n",
       "      <td>نامشخص</td>\n",
       "    </tr>\n",
       "    <tr>\n",
       "      <th>2</th>\n",
       "      <td>رستوران</td>\n",
       "      <td>آشپزخانه</td>\n",
       "    </tr>\n",
       "    <tr>\n",
       "      <th>3</th>\n",
       "      <td>رستوران</td>\n",
       "      <td>ایرانی</td>\n",
       "    </tr>\n",
       "    <tr>\n",
       "      <th>4</th>\n",
       "      <td>رستوران</td>\n",
       "      <td>تهیه غذا</td>\n",
       "    </tr>\n",
       "    <tr>\n",
       "      <th>5</th>\n",
       "      <td>رستوران</td>\n",
       "      <td>سنتی</td>\n",
       "    </tr>\n",
       "    <tr>\n",
       "      <th>6</th>\n",
       "      <td>رستوران</td>\n",
       "      <td>غذاخوری</td>\n",
       "    </tr>\n",
       "    <tr>\n",
       "      <th>7</th>\n",
       "      <td>فست‌فود</td>\n",
       "      <td>تهیه غذا</td>\n",
       "    </tr>\n",
       "    <tr>\n",
       "      <th>8</th>\n",
       "      <td>فست‌فود</td>\n",
       "      <td>غذاخوری</td>\n",
       "    </tr>\n",
       "    <tr>\n",
       "      <th>9</th>\n",
       "      <td>کافه</td>\n",
       "      <td>تهیه غذا</td>\n",
       "    </tr>\n",
       "    <tr>\n",
       "      <th>10</th>\n",
       "      <td>کافه</td>\n",
       "      <td>رستوران</td>\n",
       "    </tr>\n",
       "    <tr>\n",
       "      <th>11</th>\n",
       "      <td>کافه رستوران</td>\n",
       "      <td>سنتی</td>\n",
       "    </tr>\n",
       "  </tbody>\n",
       "</table>\n",
       "</div>"
      ],
      "text/plain": [
       "       Super Type   Subtype\n",
       "0   تالار پذیرایی    نامشخص\n",
       "1        تهیه غذا    نامشخص\n",
       "2         رستوران  آشپزخانه\n",
       "3         رستوران    ایرانی\n",
       "4         رستوران  تهیه غذا\n",
       "5         رستوران      سنتی\n",
       "6         رستوران   غذاخوری\n",
       "7         فست‌فود  تهیه غذا\n",
       "8         فست‌فود   غذاخوری\n",
       "9            کافه  تهیه غذا\n",
       "10           کافه   رستوران\n",
       "11   کافه رستوران      سنتی"
      ]
     },
     "execution_count": 113,
     "metadata": {},
     "output_type": "execute_result"
    }
   ],
   "source": [
    "def modify_super_types(row):\n",
    "    if row[\"Super Type\"] == \"فست‌فود\" and row[\"Subtype\"] == \"سنتی\":\n",
    "        row[\"Super Type\"] = \"رستوران\"\n",
    "\n",
    "    return row\n",
    "\n",
    "\n",
    "df = df.apply(modify_super_types, axis=1)\n",
    "\n",
    "get_type_pairings()"
   ]
  },
  {
   "cell_type": "code",
   "execution_count": 114,
   "id": "e0f1d0d2",
   "metadata": {},
   "outputs": [
    {
     "data": {
      "text/html": [
       "<div>\n",
       "<style scoped>\n",
       "    .dataframe tbody tr th:only-of-type {\n",
       "        vertical-align: middle;\n",
       "    }\n",
       "\n",
       "    .dataframe tbody tr th {\n",
       "        vertical-align: top;\n",
       "    }\n",
       "\n",
       "    .dataframe thead th {\n",
       "        text-align: right;\n",
       "    }\n",
       "</style>\n",
       "<table border=\"1\" class=\"dataframe\">\n",
       "  <thead>\n",
       "    <tr style=\"text-align: right;\">\n",
       "      <th></th>\n",
       "      <th>Name</th>\n",
       "      <th>Address</th>\n",
       "      <th>Rate</th>\n",
       "      <th>Review</th>\n",
       "      <th>Phone</th>\n",
       "      <th>Super Type</th>\n",
       "      <th>Marketing Area</th>\n",
       "      <th>Grade</th>\n",
       "      <th>Subtype</th>\n",
       "    </tr>\n",
       "  </thead>\n",
       "  <tbody>\n",
       "    <tr>\n",
       "      <th>0</th>\n",
       "      <td>رستوران سنتی قصر ضیافت</td>\n",
       "      <td>اهواز،نادری،بلوار آيت الله بهبهاني نبش خ حلالي...</td>\n",
       "      <td>3.8</td>\n",
       "      <td>22</td>\n",
       "      <td>061 3222 6611</td>\n",
       "      <td>رستوران</td>\n",
       "      <td>15-AkharAsfalt</td>\n",
       "      <td>B</td>\n",
       "      <td>سنتی</td>\n",
       "    </tr>\n",
       "    <tr>\n",
       "      <th>1</th>\n",
       "      <td>سالن غذاخوری شرکت ملی مناطق نفت خیز جنوب</td>\n",
       "      <td>اهواز،مناطق اداری شرکت نفت،کنارگذر پاسداران</td>\n",
       "      <td>5.0</td>\n",
       "      <td>2</td>\n",
       "      <td>061 3226 3086</td>\n",
       "      <td>رستوران</td>\n",
       "      <td>13-Hasirabad</td>\n",
       "      <td>A</td>\n",
       "      <td>غذاخوری</td>\n",
       "    </tr>\n",
       "    <tr>\n",
       "      <th>2</th>\n",
       "      <td>رستوران سنتی شاد نشین</td>\n",
       "      <td>اهواز،نادری،خ. شریعتی،خ. زند</td>\n",
       "      <td>0.0</td>\n",
       "      <td>0</td>\n",
       "      <td>Unknown</td>\n",
       "      <td>رستوران</td>\n",
       "      <td>15-AkharAsfalt</td>\n",
       "      <td>Unrated</td>\n",
       "      <td>سنتی</td>\n",
       "    </tr>\n",
       "    <tr>\n",
       "      <th>3</th>\n",
       "      <td>غذاخوری احلی اللیالی</td>\n",
       "      <td>اهواز،کوی علوی،خ. بنی هاشم،خ. فرهانی</td>\n",
       "      <td>4.0</td>\n",
       "      <td>1</td>\n",
       "      <td>0916 304 5811</td>\n",
       "      <td>فست‌فود</td>\n",
       "      <td>6-Campolo</td>\n",
       "      <td>B</td>\n",
       "      <td>غذاخوری</td>\n",
       "    </tr>\n",
       "    <tr>\n",
       "      <th>4</th>\n",
       "      <td>رستوران سنتی فرحزاد</td>\n",
       "      <td>اهواز،کیان آباد،خ. کیانپارس،خ. توحید</td>\n",
       "      <td>0.0</td>\n",
       "      <td>0</td>\n",
       "      <td>061 3376 8001</td>\n",
       "      <td>رستوران</td>\n",
       "      <td>1-Kianpars</td>\n",
       "      <td>Unrated</td>\n",
       "      <td>سنتی</td>\n",
       "    </tr>\n",
       "  </tbody>\n",
       "</table>\n",
       "</div>"
      ],
      "text/plain": [
       "                                       Name  \\\n",
       "0                    رستوران سنتی قصر ضیافت   \n",
       "1  سالن غذاخوری شرکت ملی مناطق نفت خیز جنوب   \n",
       "2                     رستوران سنتی شاد نشین   \n",
       "3                      غذاخوری احلی اللیالی   \n",
       "4                       رستوران سنتی فرحزاد   \n",
       "\n",
       "                                             Address  Rate  Review  \\\n",
       "0  اهواز،نادری،بلوار آيت الله بهبهاني نبش خ حلالي...   3.8      22   \n",
       "1        اهواز،مناطق اداری شرکت نفت،کنارگذر پاسداران   5.0       2   \n",
       "2                       اهواز،نادری،خ. شریعتی،خ. زند   0.0       0   \n",
       "3               اهواز،کوی علوی،خ. بنی هاشم،خ. فرهانی   4.0       1   \n",
       "4               اهواز،کیان آباد،خ. کیانپارس،خ. توحید   0.0       0   \n",
       "\n",
       "           Phone Super Type  Marketing Area    Grade  Subtype  \n",
       "0  061 3222 6611    رستوران  15-AkharAsfalt        B     سنتی  \n",
       "1  061 3226 3086    رستوران    13-Hasirabad        A  غذاخوری  \n",
       "2        Unknown    رستوران  15-AkharAsfalt  Unrated     سنتی  \n",
       "3  0916 304 5811    فست‌فود       6-Campolo        B  غذاخوری  \n",
       "4  061 3376 8001    رستوران      1-Kianpars  Unrated     سنتی  "
      ]
     },
     "execution_count": 114,
     "metadata": {},
     "output_type": "execute_result"
    }
   ],
   "source": [
    "df.head()"
   ]
  },
  {
   "cell_type": "markdown",
   "id": "5b4d82be",
   "metadata": {},
   "source": [
    "## **Adding a `TypeID` Feature**\n"
   ]
  },
  {
   "cell_type": "markdown",
   "id": "33ed26d6",
   "metadata": {},
   "source": [
    "Things are kept simple. Thus, the `TypeID` feature is created by joining the `Super Type` and `Subtype` values with an underscore.\n"
   ]
  },
  {
   "cell_type": "code",
   "execution_count": 115,
   "id": "330ffd23",
   "metadata": {},
   "outputs": [
    {
     "data": {
      "text/html": [
       "<div>\n",
       "<style scoped>\n",
       "    .dataframe tbody tr th:only-of-type {\n",
       "        vertical-align: middle;\n",
       "    }\n",
       "\n",
       "    .dataframe tbody tr th {\n",
       "        vertical-align: top;\n",
       "    }\n",
       "\n",
       "    .dataframe thead th {\n",
       "        text-align: right;\n",
       "    }\n",
       "</style>\n",
       "<table border=\"1\" class=\"dataframe\">\n",
       "  <thead>\n",
       "    <tr style=\"text-align: right;\">\n",
       "      <th></th>\n",
       "      <th>Name</th>\n",
       "      <th>Address</th>\n",
       "      <th>Rate</th>\n",
       "      <th>Review</th>\n",
       "      <th>Phone</th>\n",
       "      <th>Super Type</th>\n",
       "      <th>Marketing Area</th>\n",
       "      <th>Grade</th>\n",
       "      <th>Subtype</th>\n",
       "      <th>TypeID</th>\n",
       "    </tr>\n",
       "  </thead>\n",
       "  <tbody>\n",
       "    <tr>\n",
       "      <th>0</th>\n",
       "      <td>رستوران سنتی قصر ضیافت</td>\n",
       "      <td>اهواز،نادری،بلوار آيت الله بهبهاني نبش خ حلالي...</td>\n",
       "      <td>3.8</td>\n",
       "      <td>22</td>\n",
       "      <td>061 3222 6611</td>\n",
       "      <td>رستوران</td>\n",
       "      <td>15-AkharAsfalt</td>\n",
       "      <td>B</td>\n",
       "      <td>سنتی</td>\n",
       "      <td>رستوران_سنتی</td>\n",
       "    </tr>\n",
       "    <tr>\n",
       "      <th>1</th>\n",
       "      <td>سالن غذاخوری شرکت ملی مناطق نفت خیز جنوب</td>\n",
       "      <td>اهواز،مناطق اداری شرکت نفت،کنارگذر پاسداران</td>\n",
       "      <td>5.0</td>\n",
       "      <td>2</td>\n",
       "      <td>061 3226 3086</td>\n",
       "      <td>رستوران</td>\n",
       "      <td>13-Hasirabad</td>\n",
       "      <td>A</td>\n",
       "      <td>غذاخوری</td>\n",
       "      <td>رستوران_غذاخوری</td>\n",
       "    </tr>\n",
       "    <tr>\n",
       "      <th>2</th>\n",
       "      <td>رستوران سنتی شاد نشین</td>\n",
       "      <td>اهواز،نادری،خ. شریعتی،خ. زند</td>\n",
       "      <td>0.0</td>\n",
       "      <td>0</td>\n",
       "      <td>Unknown</td>\n",
       "      <td>رستوران</td>\n",
       "      <td>15-AkharAsfalt</td>\n",
       "      <td>Unrated</td>\n",
       "      <td>سنتی</td>\n",
       "      <td>رستوران_سنتی</td>\n",
       "    </tr>\n",
       "    <tr>\n",
       "      <th>3</th>\n",
       "      <td>غذاخوری احلی اللیالی</td>\n",
       "      <td>اهواز،کوی علوی،خ. بنی هاشم،خ. فرهانی</td>\n",
       "      <td>4.0</td>\n",
       "      <td>1</td>\n",
       "      <td>0916 304 5811</td>\n",
       "      <td>فست‌فود</td>\n",
       "      <td>6-Campolo</td>\n",
       "      <td>B</td>\n",
       "      <td>غذاخوری</td>\n",
       "      <td>فست‌فود_غذاخوری</td>\n",
       "    </tr>\n",
       "    <tr>\n",
       "      <th>4</th>\n",
       "      <td>رستوران سنتی فرحزاد</td>\n",
       "      <td>اهواز،کیان آباد،خ. کیانپارس،خ. توحید</td>\n",
       "      <td>0.0</td>\n",
       "      <td>0</td>\n",
       "      <td>061 3376 8001</td>\n",
       "      <td>رستوران</td>\n",
       "      <td>1-Kianpars</td>\n",
       "      <td>Unrated</td>\n",
       "      <td>سنتی</td>\n",
       "      <td>رستوران_سنتی</td>\n",
       "    </tr>\n",
       "  </tbody>\n",
       "</table>\n",
       "</div>"
      ],
      "text/plain": [
       "                                       Name  \\\n",
       "0                    رستوران سنتی قصر ضیافت   \n",
       "1  سالن غذاخوری شرکت ملی مناطق نفت خیز جنوب   \n",
       "2                     رستوران سنتی شاد نشین   \n",
       "3                      غذاخوری احلی اللیالی   \n",
       "4                       رستوران سنتی فرحزاد   \n",
       "\n",
       "                                             Address  Rate  Review  \\\n",
       "0  اهواز،نادری،بلوار آيت الله بهبهاني نبش خ حلالي...   3.8      22   \n",
       "1        اهواز،مناطق اداری شرکت نفت،کنارگذر پاسداران   5.0       2   \n",
       "2                       اهواز،نادری،خ. شریعتی،خ. زند   0.0       0   \n",
       "3               اهواز،کوی علوی،خ. بنی هاشم،خ. فرهانی   4.0       1   \n",
       "4               اهواز،کیان آباد،خ. کیانپارس،خ. توحید   0.0       0   \n",
       "\n",
       "           Phone Super Type  Marketing Area    Grade  Subtype           TypeID  \n",
       "0  061 3222 6611    رستوران  15-AkharAsfalt        B     سنتی     رستوران_سنتی  \n",
       "1  061 3226 3086    رستوران    13-Hasirabad        A  غذاخوری  رستوران_غذاخوری  \n",
       "2        Unknown    رستوران  15-AkharAsfalt  Unrated     سنتی     رستوران_سنتی  \n",
       "3  0916 304 5811    فست‌فود       6-Campolo        B  غذاخوری  فست‌فود_غذاخوری  \n",
       "4  061 3376 8001    رستوران      1-Kianpars  Unrated     سنتی     رستوران_سنتی  "
      ]
     },
     "execution_count": 115,
     "metadata": {},
     "output_type": "execute_result"
    }
   ],
   "source": [
    "df[\"TypeID\"] = df[\"Super Type\"] + \"_\" + df[\"Subtype\"]\n",
    "\n",
    "df.head()"
   ]
  },
  {
   "cell_type": "markdown",
   "id": "ea53a6a4",
   "metadata": {},
   "source": [
    "## **Exporting the Processed Data**\n"
   ]
  },
  {
   "cell_type": "code",
   "execution_count": 116,
   "id": "0157701a",
   "metadata": {},
   "outputs": [],
   "source": [
    "df.to_csv(\"data/processed.csv\")"
   ]
  },
  {
   "cell_type": "markdown",
   "id": "b953be37",
   "metadata": {},
   "source": [
    "## **Data Analysis**"
   ]
  },
  {
   "cell_type": "code",
   "execution_count": 141,
   "id": "46b10a6d",
   "metadata": {},
   "outputs": [
    {
     "name": "stdout",
     "output_type": "stream",
     "text": [
      "=== Data Analysis Summary ===\n",
      "\n",
      "Marketing Area Distribution:\n",
      "Marketing Area\n",
      "1-Kianpars            0.239130\n",
      "3-Golestan_Uni        0.130435\n",
      "15-AkharAsfalt        0.130435\n",
      "6-Campolo             0.108696\n",
      "13-Hasirabad          0.086957\n",
      "2-Zeytoon Karmandi    0.086957\n",
      "7-Kourosh             0.065217\n",
      "11-Naft               0.065217\n",
      "8-Bahonar             0.043478\n",
      "4-Padad               0.021739\n",
      "14-Airport            0.021739\n",
      "Name: proportion, dtype: float64\n",
      "\n",
      "Grade Distribution:\n",
      "Grade\n",
      "Unrated    0.586957\n",
      "A          0.173913\n",
      "B          0.130435\n",
      "C          0.108696\n",
      "Name: proportion, dtype: float64\n",
      "\n",
      "Super Type Distribution:\n",
      "Super Type\n",
      "رستوران          0.586957\n",
      "تهیه غذا         0.217391\n",
      "فست‌فود          0.086957\n",
      "کافه             0.065217\n",
      "کافه رستوران     0.021739\n",
      "تالار پذیرایی    0.021739\n",
      "Name: proportion, dtype: float64\n",
      "\n",
      "Subtype Distribution:\n",
      "Subtype\n",
      "سنتی        0.369565\n",
      "نامشخص      0.239130\n",
      "تهیه غذا    0.173913\n",
      "غذاخوری     0.152174\n",
      "آشپزخانه    0.021739\n",
      "رستوران     0.021739\n",
      "ایرانی      0.021739\n",
      "Name: proportion, dtype: float64\n",
      "\n",
      "Interesting Fact:\n",
      "The marketing area '13-Hasirabad' has the highest number of A-grade restaurants (2 restaurants).\n"
     ]
    }
   ],
   "source": [
    "print(\"=== Data Analysis Summary ===\")\n",
    "\n",
    "print(\"\\nMarketing Area Distribution:\")\n",
    "print(df[\"Marketing Area\"].value_counts(normalize=True))\n",
    "\n",
    "print(\"\\nGrade Distribution:\")\n",
    "print(df[\"Grade\"].value_counts(normalize=True))\n",
    "\n",
    "print(\"\\nSuper Type Distribution:\")\n",
    "print(df[\"Super Type\"].value_counts(normalize=True))\n",
    "\n",
    "print(\"\\nSubtype Distribution:\")\n",
    "print(df[\"Subtype\"].value_counts(normalize=True))\n",
    "\n",
    "a_grade_by_area = df[df[\"Grade\"] == \"A\"][\"Marketing Area\"].value_counts()\n",
    "\n",
    "print(\"\\nInteresting Fact:\")\n",
    "\n",
    "if not a_grade_by_area.empty:\n",
    "    top_area = a_grade_by_area.idxmax()\n",
    "    count = a_grade_by_area.max()\n",
    "\n",
    "    print(\n",
    "        f\"The marketing area '{top_area}' has the highest number of A-grade restaurants ({count} restaurants).\"\n",
    "    )\n",
    "else:\n",
    "    print(\"No A-grade restaurants found.\")"
   ]
  },
  {
   "cell_type": "code",
   "execution_count": 139,
   "id": "f6017f2e",
   "metadata": {},
   "outputs": [
    {
     "data": {
      "image/png": "[encoded data removed]",
      "text/plain": [
       "<Figure size 2000x2000 with 6 Axes>"
      ]
     },
     "metadata": {},
     "output_type": "display_data"
    }
   ],
   "source": [
    "def to_persian_display(text):\n",
    "    return get_display(ar.reshape(text))\n",
    "\n",
    "\n",
    "def get_persian_ticks(axes):\n",
    "    return {\n",
    "        \"ticks\": axes.get_xticks(),\n",
    "        \"labels\": list(\n",
    "            map(\n",
    "                lambda label: to_persian_display(label.get_text()),\n",
    "                axes.get_xticklabels(),\n",
    "            )\n",
    "        ),\n",
    "    }\n",
    "\n",
    "\n",
    "def show_stacked(title, x, hue, xticks_rotation):\n",
    "    counts = df.groupby([x, hue]).size().unstack(fill_value=0)\n",
    "    counts = counts.loc[counts.sum(axis=1).sort_values(ascending=False).index]\n",
    "    counts.plot(kind=\"bar\", stacked=True, ax=plt.gca())\n",
    "\n",
    "    plt.title(title)\n",
    "    plt.xlabel(x)\n",
    "    plt.ylabel(\"Count\")\n",
    "    plt.xticks(rotation=xticks_rotation, **get_persian_ticks(plt.gca()))\n",
    "\n",
    "    plt.legend(\n",
    "        title=hue,\n",
    "        labels=list(map(to_persian_display, plt.gca().get_legend_handles_labels()[1])),\n",
    "    )\n",
    "\n",
    "def show_proportion(title, x):\n",
    "    counts = df[x].value_counts()\n",
    "\n",
    "    plt.pie(\n",
    "        counts,\n",
    "        labels=list(map(to_persian_display, counts.index)),\n",
    "        autopct=\"%1.1f%%\",\n",
    "        startangle=140,\n",
    "    )\n",
    "\n",
    "    plt.title(title)\n",
    "\n",
    "plt.subplots(3, 2, figsize=(20, 20))\n",
    "plt.subplot(3, 2, 1)\n",
    "show_proportion(\"Proportion of Super Type Categories\", \"Super Type\")\n",
    "plt.subplot(3, 2, 2)\n",
    "show_proportion(\"Proportion of Grade Categories\", \"Grade\")\n",
    "plt.subplot(3, 2, 3)\n",
    "show_stacked(\"Grade Distribution by Marketing Area\", \"Marketing Area\", \"Grade\", 45)\n",
    "plt.subplot(3, 2, 4)\n",
    "show_stacked(\"Grade Distribution by Super Type\", \"Super Type\", \"Grade\", 45)\n",
    "plt.subplot(3, 2, 5)\n",
    "show_stacked(\"Super Type Distribution by Marketing Area\", \"Marketing Area\", \"Super Type\", 45)\n",
    "plt.subplot(3, 2, 6)\n",
    "show_stacked(\"Subtype Distribution by Super Type\", \"Super Type\", \"Subtype\", 45)\n",
    "plt.tight_layout()"
   ]
  },
  {
   "cell_type": "markdown",
   "id": "9250bae7",
   "metadata": {},
   "source": [
    "The dataset provides insights into various dining establishments in Ahvaz, categorized by Super Type, Marketing Area, Grade, and Subtype.\n",
    "\n",
    "The proportion of Super Type categories shows that restaurants dominate with 58.7%, followed by unrated types at 21.7%. Other categories like fast food, catering, and cafes make up smaller portions, with catering at 8.7% and fast food at 2.3%. This suggests a strong presence of traditional dining options in the region.\n",
    "\n",
    "Grade distribution by Marketing Area indicates that the 15-AkharAsfalt area has the highest count of graded establishments, with a mix of B, A, and unrated grades. The 1-Kianpars area also shows a notable distribution, with a significant number of unrated establishments. Areas like 14-Airport and 4-Padad have fewer entries, mostly unrated, highlighting potential gaps in data or less activity in those regions.\n",
    "\n",
    "For Super Type, the grade distribution is led by restaurants with a high count of unrated entries, followed by a balanced mix of A, B, and unrated grades. Catering and fast food types show fewer graded instances, with catering having a slight edge in A grades. This could indicate that restaurants are more commonly reviewed or rated compared to other types.\n",
    "\n",
    "The Super Type distribution by Marketing Area reveals that 1-Kianpars and 15-AkharAsfalt are hotspots for restaurants, with 1-Kianpars also hosting a variety of catering services. Other areas like 6-Campolo and 13-Hasirabad show diverse but lower counts, suggesting these might be emerging or less saturated markets.\n",
    "\n",
    "Subtype distribution by Super Type highlights that the \"traditional\" subtype is prevalent among restaurants (58.7%), aligning with the dominance of this Super Type. Catering services often fall under the \"unspecified\" subtype, while fast food includes a mix of \"catering\" and \"dining\" subtypes. An interesting observation is the high unrated proportion (21.7%), which might indicate new establishments or those yet to gain traction.\n",
    "\n",
    "An unexpected highlight is the significant number of unrated entries across all categories, particularly in restaurants and catering. This could suggest either a lack of customer feedback or newly opened businesses, offering an opportunity for increased engagement or data collection in these areas.\n",
    "\n",
    "Overall, the data points to a thriving restaurant scene in Ahvaz, especially in key marketing areas like 1-Kianpars and 15-AkharAsfalt, with a need for more rating activity to fully assess the quality and diversity of services."
   ]
  }
 ],
 "metadata": {
  "kernelspec": {
   "display_name": "Python 3",
   "language": "python",
   "name": "python3"
  },
  "language_info": {
   "codemirror_mode": {
    "name": "ipython",
    "version": 3
   },
   "file_extension": ".py",
   "mimetype": "text/x-python",
   "name": "python",
   "nbconvert_exporter": "python",
   "pygments_lexer": "ipython3",
   "version": "3.13.2"
  }
 },
 "nbformat": 4,
 "nbformat_minor": 5
}
